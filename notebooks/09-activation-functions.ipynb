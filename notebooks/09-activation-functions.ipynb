{
 "cells": [
  {
   "cell_type": "markdown",
   "metadata": {},
   "source": [
    "# Activation Functions\n",
    "\n",
    "There are loads of them!\n",
    "\n",
    "https://pytorch.org/docs/stable/nn.html#non-linear-activations-weighted-sum-nonlinearity\n",
    "\n",
    "```\n",
    "    ELU\n",
    "    Hardshrink\n",
    "    Hardtanh\n",
    "    LeakyReLU\n",
    "    LogSigmoid\n",
    "    MultiheadAttention\n",
    "    PReLU\n",
    "    ReLU\n",
    "    ReLU6\n",
    "    RReLU\n",
    "    SELU\n",
    "    CELU\n",
    "    GELU\n",
    "    Sigmoid\n",
    "    Softplus\n",
    "    Softshrink\n",
    "    Softsign\n",
    "    Tanh\n",
    "    Tanhshrink\n",
    "    Threshold\n",
    "```\n",
    "\n",
    "You can just replace the Tanh with them.\n",
    "ReLU and LeakyReLU are frequently used.\n",
    "\n",
    "Paul has opinions about this."
   ]
  },
  {
   "cell_type": "code",
   "execution_count": null,
   "metadata": {},
   "outputs": [],
   "source": [
    "from typing import *\n",
    "\n",
    "import torch\n",
    "import torch.nn as nn\n",
    "import torch.nn.functional as F\n",
    "import torchvision.models as models\n",
    "import torch.optim as optim\n",
    "\n",
    "import numpy as np\n",
    "from torchvision import datasets, transforms\n",
    "\n",
    "from tqdm import tqdm\n",
    "\n",
    "import PIL"
   ]
  },
  {
   "cell_type": "code",
   "execution_count": null,
   "metadata": {},
   "outputs": [],
   "source": [
    "nn.ReLU?"
   ]
  },
  {
   "cell_type": "code",
   "execution_count": null,
   "metadata": {},
   "outputs": [],
   "source": [
    "nn.ReLU6?"
   ]
  },
  {
   "cell_type": "code",
   "execution_count": null,
   "metadata": {},
   "outputs": [],
   "source": [
    "nn.CELU?"
   ]
  },
  {
   "cell_type": "code",
   "execution_count": null,
   "metadata": {},
   "outputs": [],
   "source": []
  }
 ],
 "metadata": {
  "kernelspec": {
   "display_name": "Python 3",
   "language": "python",
   "name": "python3"
  },
  "language_info": {
   "codemirror_mode": {
    "name": "ipython",
    "version": 3
   },
   "file_extension": ".py",
   "mimetype": "text/x-python",
   "name": "python",
   "nbconvert_exporter": "python",
   "pygments_lexer": "ipython3",
   "version": "3.7.7"
  }
 },
 "nbformat": 4,
 "nbformat_minor": 4
}
