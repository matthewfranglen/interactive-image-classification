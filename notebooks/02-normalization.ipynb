{
 "cells": [
  {
   "cell_type": "markdown",
   "metadata": {},
   "source": [
    "### Normalization\n",
    "\n",
    "Colin has previously spoken about how correctly initializing the weights is important to ensure that the gradients don't explode or vanish.\n",
    "To help with this process we can change the inputs so they have a mean of 0 and a standard deviation of 1.\n",
    "\n",
    "It's quite easy to calculate this - just ask the dataset for the mean and standard deviation."
   ]
  },
  {
   "cell_type": "code",
   "execution_count": null,
   "metadata": {},
   "outputs": [],
   "source": [
    "from typing import *\n",
    "\n",
    "import torch\n",
    "import torch.nn as nn\n",
    "import torch.nn.functional as F\n",
    "import torchvision.models as models\n",
    "import torch.optim as optim\n",
    "\n",
    "import numpy as np\n",
    "from torchvision import datasets, transforms\n",
    "\n",
    "from tqdm import tqdm\n",
    "\n",
    "import PIL"
   ]
  },
  {
   "cell_type": "code",
   "execution_count": null,
   "metadata": {},
   "outputs": [],
   "source": [
    "def to_image(image: torch.Tensor) -> PIL.Image:\n",
    "    # the rescaling also reverses the normalization (close enough)\n",
    "    image -= image.min()\n",
    "    image /= image.max()\n",
    "    return transforms.functional.to_pil_image(image.cpu(), 'RGB')"
   ]
  },
  {
   "cell_type": "markdown",
   "metadata": {},
   "source": [
    "---\n",
    "\n",
    "The first thing to do is to calculate the normalization values."
   ]
  },
  {
   "cell_type": "code",
   "execution_count": null,
   "metadata": {},
   "outputs": [],
   "source": [
    "# Normalization is important, lets calculate the mean and standard deviation\n",
    "train_ds = datasets.CIFAR10(root='data', train=True, download=True, transform=transforms.ToTensor())\n",
    "print(train_ds.data.shape)\n",
    "print(train_ds.data.mean(axis=(0,1,2))/255)\n",
    "print(train_ds.data.std(axis=(0,1,2))/255)"
   ]
  },
  {
   "cell_type": "markdown",
   "metadata": {},
   "source": [
    "---\n",
    "\n",
    "Now we want to apply them to the dataset.\n",
    "We can look at the transform to determine what inputs it is expecting:"
   ]
  },
  {
   "cell_type": "code",
   "execution_count": null,
   "metadata": {},
   "outputs": [],
   "source": [
    "transforms.Normalize?"
   ]
  },
  {
   "cell_type": "markdown",
   "metadata": {},
   "source": [
    "So we can see that we can take these direct values and they will be correctly applied - we do not need to negate the mean or take the reciprocal of the standard deviation."
   ]
  },
  {
   "cell_type": "markdown",
   "metadata": {},
   "source": [
    "---\n",
    "\n",
    "The final step is to add the normalization to the transformation list.\n",
    "The normalization applies to the tensor as it is easiest to transform the values separately.\n",
    "Lets see how to apply it:"
   ]
  },
  {
   "cell_type": "code",
   "execution_count": null,
   "metadata": {},
   "outputs": [],
   "source": [
    "transform = transforms.Compose([\n",
    "    # Normalization works on tensors\n",
    "    transforms.ToTensor(),\n",
    "\n",
    "    # this takes the values that were calculated before\n",
    "    transforms.Normalize(mean=(0.49139968, 0.48215841, 0.44653091), std=(0.24703223, 0.24348513, 0.26158784)),\n",
    "])\n",
    "\n",
    "train_ds = datasets.CIFAR10(\n",
    "    'data',\n",
    "    download=True,\n",
    "    train=True,\n",
    "    transform=transform,\n",
    ")\n",
    "\n",
    "image, target = next(iter(train_ds))\n",
    "print(train_ds.classes[target])\n",
    "to_image(image) # this reverses the changes that normalization applies"
   ]
  },
  {
   "cell_type": "code",
   "execution_count": null,
   "metadata": {},
   "outputs": [],
   "source": []
  }
 ],
 "metadata": {
  "kernelspec": {
   "display_name": "Python 3",
   "language": "python",
   "name": "python3"
  },
  "language_info": {
   "codemirror_mode": {
    "name": "ipython",
    "version": 3
   },
   "file_extension": ".py",
   "mimetype": "text/x-python",
   "name": "python",
   "nbconvert_exporter": "python",
   "pygments_lexer": "ipython3",
   "version": "3.7.7"
  }
 },
 "nbformat": 4,
 "nbformat_minor": 4
}
